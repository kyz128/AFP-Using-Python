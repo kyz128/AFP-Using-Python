{
 "cells": [
  {
   "cell_type": "code",
   "execution_count": 1,
   "metadata": {},
   "outputs": [],
   "source": [
    "import numpy as np\n",
    "from scipy.optimize import minimize"
   ]
  },
  {
   "cell_type": "code",
   "execution_count": 6,
   "metadata": {},
   "outputs": [],
   "source": [
    "import pprint\n",
    "pp= pprint.PrettyPrinter(depth=10)"
   ]
  },
  {
   "cell_type": "code",
   "execution_count": 27,
   "metadata": {},
   "outputs": [],
   "source": [
    "#question 5 setup \n",
    "T=11\n",
    "times= np.arange(T)\n",
    "def ho_lee_rn(n, heads):\n",
    "    #definition of Ho-Lee model \n",
    "    an= 0.015-0.00125*n\n",
    "    bn= 0.0025\n",
    "    return an + bn*heads\n",
    "\n",
    "def get_all_rn(times):\n",
    "    #compute interest rate tree here\n",
    "    res= {}\n",
    "    for i in times:\n",
    "        res[i]= ho_lee_rn(i, np.arange(i+1))\n",
    "    return res\n",
    "\n",
    "all_rn= get_all_rn(np.arange(T))"
   ]
  },
  {
   "cell_type": "code",
   "execution_count": 28,
   "metadata": {},
   "outputs": [],
   "source": [
    "def compute_b1011(all_rn):\n",
    "    prices= {T:[1], T-1: 1/(1+all_rn[T-1])}\n",
    "    remain_time= np.arange(T-2, -1, -1)\n",
    "    for t in remain_time:\n",
    "        tprices= np.empty(t+1)\n",
    "        num_heads= np.arange(t+1)\n",
    "        for k in num_heads:\n",
    "            #no discounting or intermediate payments\n",
    "            tprices[k]= (.5*(prices[t+1][k+1] + prices[t+1][k]))\n",
    "        prices[t]= tprices\n",
    "    print(\"time 10 price of ZCB maturity 11 : \")\n",
    "    pp.pprint(prices)\n",
    "    return prices[0][0]\n",
    "\n",
    "def compute_b0T(all_rn, T):\n",
    "    #typical backward induction \n",
    "    prices= {T:[1], T-1: 1/(1+all_rn[T-1])}\n",
    "    remain_time= np.arange(T-2, -1, -1)\n",
    "    for t in remain_time:\n",
    "        tprices= np.empty(t+1)\n",
    "        num_heads= np.arange(t+1)\n",
    "        for k in num_heads:\n",
    "            tprices[k]= 1/(1+all_rn[t][k])*(.5*(prices[t+1][k+1] + prices[t+1][k]))\n",
    "        prices[t]= tprices\n",
    "    print(\"time 0 price of ZCB maturity {} :\".format(T))\n",
    "    pp.pprint(prices)\n",
    "    return prices[0][0]\n",
    "\n",
    "def get_stats(all_rn):\n",
    "    #answer to question 5 on hw\n",
    "    r10= all_rn[10]\n",
    "    b010= compute_b0T(all_rn, 10)\n",
    "    b011= compute_b0T(all_rn, 11)\n",
    "    ans_a= b010/b011-1\n",
    "    ans_b= np.mean(r10)\n",
    "    ans_d= np.mean(100*(1-4*r10))\n",
    "    ans_c= np.mean(100*compute_b1011(all_rn))\n",
    "    return ans_a, ans_b, ans_c, ans_d"
   ]
  },
  {
   "cell_type": "code",
   "execution_count": 29,
   "metadata": {},
   "outputs": [
    {
     "name": "stdout",
     "output_type": "stream",
     "text": [
      "time 0 price of ZCB maturity 10 :\n",
      "{0: array([0.8618829]),\n",
      " 1: array([0.88450733, 0.86511496]),\n",
      " 2: array([0.90551437, 0.88782423, 0.87052193]),\n",
      " 3: array([0.92475655, 0.90891005, 0.89337313, 0.878139  ]),\n",
      " 4: array([0.94209574, 0.92822439, 0.91459074, 0.90119014, 0.88801806]),\n",
      " 5: array([0.9574048 , 0.9456286 , 0.93402579, 0.92259341, 0.91132853,\n",
      "       0.90022831]),\n",
      " 6: array([0.97056911, 0.96099506, 0.95153878, 0.94219852, 0.93297259,\n",
      "       0.9238593 , 0.91485702]),\n",
      " 7: array([0.98148801, 0.97420875, 0.96700128, 0.95986474, 0.95279825,\n",
      "       0.94580096, 0.93887201, 0.93201059]),\n",
      " 8: array([0.99007603, 0.98516859, 0.98029755, 0.97546254, 0.97066322,\n",
      "       0.96589923, 0.96117022, 0.95647586, 0.95181581]),\n",
      " 9: array([0.99626401, 0.99378882, 0.9913259 , 0.98887515, 0.9864365 ,\n",
      "       0.98400984, 0.98159509, 0.97919217, 0.97680098, 0.97442144]),\n",
      " 10: [1]}\n",
      "time 0 price of ZCB maturity 11 :\n",
      "{0: array([0.84921656]),\n",
      " 1: array([0.87257001, 0.8513396 ]),\n",
      " 2: array([0.89438426, 0.87475144, 0.85559629]),\n",
      " 3: array([0.91450791, 0.89662022, 0.87912519, 0.86201327]),\n",
      " 4: array([0.93279806, 0.91679418, 0.90110332, 0.88571863, 0.8706334 ]),\n",
      " 5: array([0.94912203, 0.93513006, 0.92137815, 0.9078616 , 0.89457582,\n",
      "       0.88151632]),\n",
      " 6: array([0.96335886, 0.95149484, 0.93980571, 0.92828848, 0.91694021,\n",
      "       0.90575802, 0.89473906]),\n",
      " 7: array([0.97540085, 0.96576726, 0.95625231, 0.94685425, 0.93757137,\n",
      "       0.92840197, 0.91934439, 0.910397  ]),\n",
      " 8: array([0.98515486, 0.97783935, 0.97059609, 0.9634242 , 0.9563228 ,\n",
      "       0.94929101, 0.942328  , 0.93543291, 0.92860494]),\n",
      " 9: array([0.99254352, 0.98761774, 0.98272855, 0.97787557, 0.97305844,\n",
      "       0.96827683, 0.96353038, 0.95881874, 0.95414157, 0.94949855]),\n",
      " 10: array([0.99750623, 0.99502488, 0.99255583, 0.99009901, 0.98765432,\n",
      "       0.98522167, 0.98280098, 0.98039216, 0.97799511, 0.97560976,\n",
      "       0.97323601]),\n",
      " 11: [1]}\n",
      "time 10 price of ZCB maturity 11 : \n",
      "{0: array([0.98523662]),\n",
      " 1: array([0.98645   , 0.98402324]),\n",
      " 2: array([0.98766636, 0.98523363, 0.98281285]),\n",
      " 3: array([0.98888573, 0.986447  , 0.98402026, 0.98160544]),\n",
      " 4: array([0.99010811, 0.98766335, 0.98523064, 0.98280988, 0.98040099]),\n",
      " 5: array([0.99133351, 0.98888271, 0.986444  , 0.98401728, 0.98160248,\n",
      "       0.9791995 ]),\n",
      " 6: array([0.99256194, 0.99010508, 0.98766034, 0.98522765, 0.98280692,\n",
      "       0.98039805, 0.97800096]),\n",
      " 7: array([0.99379342, 0.99133047, 0.98887969, 0.986441  , 0.98401431,\n",
      "       0.98159953, 0.97919657, 0.97680535]),\n",
      " 8: array([0.99502795, 0.99255889, 0.99010204, 0.98765733, 0.98522466,\n",
      "       0.98280395, 0.9803951 , 0.97799803, 0.97561266]),\n",
      " 9: array([0.99626556, 0.99379035, 0.99132742, 0.98887667, 0.986438  ,\n",
      "       0.98401133, 0.98159657, 0.97919363, 0.97680243, 0.97442288]),\n",
      " 10: array([0.99750623, 0.99502488, 0.99255583, 0.99009901, 0.98765432,\n",
      "       0.98522167, 0.98280098, 0.98039216, 0.97799511, 0.97560976,\n",
      "       0.97323601]),\n",
      " 11: [1]}\n"
     ]
    },
    {
     "data": {
      "text/plain": [
       "(0.014915329044920433, 0.014999999999999998, 98.52366179644693, 94.0)"
      ]
     },
     "execution_count": 29,
     "metadata": {},
     "output_type": "execute_result"
    }
   ],
   "source": [
    "get_stats(all_rn)"
   ]
  },
  {
   "cell_type": "code",
   "execution_count": 30,
   "metadata": {},
   "outputs": [],
   "source": [
    "#Question 6: interest rate tree setup\n",
    "T=10\n",
    "times= np.arange(T)\n",
    "\n",
    "def ho_lee_rn(n, heads):\n",
    "    #definition of Ho-Lee model \n",
    "    an= 0.06-0.005*n\n",
    "    bn= 0.01\n",
    "    return an + bn*heads\n",
    "all_rn= get_all_rn(np.arange(T))"
   ]
  },
  {
   "cell_type": "code",
   "execution_count": 31,
   "metadata": {},
   "outputs": [],
   "source": [
    "epsilon_V= np.arange(1, 10)\n",
    "epsilon_W= np.array([6,7,8,9])\n",
    "def callable_backward(q, call_dates):\n",
    "    F= 1000\n",
    "    call_price= 1000\n",
    "    prices= {T: [1000]*(T+1)}\n",
    "    remain_time= np.arange(T-1, -1, -1)\n",
    "    for t in remain_time:\n",
    "        tprices= np.empty(t+1)\n",
    "        num_heads= np.arange(t+1)\n",
    "        if t in call_dates:\n",
    "            for k in num_heads:\n",
    "                wait= 1/(1+all_rn[t][k])*(.5*(prices[t+1][k+1] + prices[t+1][k])+F*q)\n",
    "                tprices[k]= min(call_price, wait)\n",
    "        else:\n",
    "            for k in num_heads:\n",
    "                tprices[k]= 1/(1+all_rn[t][k])*(.5*(prices[t+1][k+1] + prices[t+1][k])+F*q)\n",
    "        prices[t]= tprices\n",
    "    return (prices[0]-F)**2\n",
    "\n",
    "def find_parq():\n",
    "    res_v= minimize(callable_backward, x0=0.06, args=(epsilon_V,))\n",
    "    res_w= minimize(callable_backward, x0=0.06, args=(epsilon_W,))\n",
    "    return res_v.x[0], res_w.x[0]\n"
   ]
  },
  {
   "cell_type": "code",
   "execution_count": 32,
   "metadata": {},
   "outputs": [
    {
     "data": {
      "text/plain": [
       "(0.06640530519823765, 0.0618809080269416)"
      ]
     },
     "execution_count": 32,
     "metadata": {},
     "output_type": "execute_result"
    }
   ],
   "source": [
    "find_parq()"
   ]
  },
  {
   "cell_type": "code",
   "execution_count": 23,
   "metadata": {},
   "outputs": [],
   "source": [
    "#Question 7 \n",
    "def verify_formula(r0=0.1, m=10, alpha=1.02, beta=.98):\n",
    "    product= (1/beta + 1/alpha)*.5\n",
    "    return 100/(1+r0)*(product)**m"
   ]
  },
  {
   "cell_type": "code",
   "execution_count": 24,
   "metadata": {},
   "outputs": [
    {
     "data": {
      "text/plain": [
       "91.27352855439308"
      ]
     },
     "execution_count": 24,
     "metadata": {},
     "output_type": "execute_result"
    }
   ],
   "source": [
    "verify_formula()"
   ]
  },
  {
   "cell_type": "code",
   "execution_count": null,
   "metadata": {},
   "outputs": [],
   "source": []
  }
 ],
 "metadata": {
  "kernelspec": {
   "display_name": "Python 3",
   "language": "python",
   "name": "python3"
  },
  "language_info": {
   "codemirror_mode": {
    "name": "ipython",
    "version": 3
   },
   "file_extension": ".py",
   "mimetype": "text/x-python",
   "name": "python",
   "nbconvert_exporter": "python",
   "pygments_lexer": "ipython3",
   "version": "3.7.3"
  }
 },
 "nbformat": 4,
 "nbformat_minor": 4
}
