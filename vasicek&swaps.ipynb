{
 "cells": [
  {
   "cell_type": "code",
   "execution_count": 1,
   "metadata": {},
   "outputs": [],
   "source": [
    "import numpy as np\n",
    "import pprint \n",
    "from scipy.optimize import minimize \n",
    "pp= pprint.PrettyPrinter(indent=4)\n",
    "T=10\n",
    "times= np.arange(T)"
   ]
  },
  {
   "cell_type": "code",
   "execution_count": 2,
   "metadata": {},
   "outputs": [],
   "source": [
    "def ho_lee_rn(n, heads, r0, lam, sigma):\n",
    "    #definition of Ho-Lee model\n",
    "    sig_coeff= (heads-(n-heads))\n",
    "    return r0 + lam*n + sig_coeff*sigma\n",
    "\n",
    "def get_all_rn(times, r0, lam, sigma):\n",
    "    #compute interest rate tree here\n",
    "    res= {}\n",
    "    for i in times:\n",
    "        res[i]= ho_lee_rn(i, np.arange(i+1), r0, lam, sigma)\n",
    "    return res"
   ]
  },
  {
   "cell_type": "code",
   "execution_count": 8,
   "metadata": {},
   "outputs": [],
   "source": [
    "def payment(all_rn, curr_t, k, K, F=1000):\n",
    "    #definition of the payment function\n",
    "    prev_r= all_rn[curr_t-1][k]\n",
    "    return F*(K-prev_r)\n",
    "\n",
    "def all_pay(all_rn, times, K):\n",
    "    #get all coupon payments \n",
    "    res= {}\n",
    "    for t in times:\n",
    "        q_t= np.empty(t)\n",
    "        num_heads= np.arange(t)\n",
    "        for k in num_heads:\n",
    "            q_t[k]= payment(all_rn, t, k, K)\n",
    "        res[t]= q_t\n",
    "    return res\n",
    "\n",
    "def backward_swap(K, F=1000):\n",
    "    all_payments= all_pay(all_rn, np.arange(1, 11), K)\n",
    "    terminal_val= all_payments[T]\n",
    "    prices= {T-1: terminal_val/(1+all_rn[T-1])}\n",
    "    remain_time= np.arange(T-2, -1, -1)\n",
    "    for t in remain_time:\n",
    "        tprices= np.empty(t+1)\n",
    "        num_heads= np.arange(t+1)\n",
    "        for k in num_heads:\n",
    "            tprices[k]= 1/(1+all_rn[t][k])*(.5*(prices[t+1][k+1] + prices[t+1][k])+all_payments[t+1][k])\n",
    "        prices[t]= tprices\n",
    "    return prices"
   ]
  },
  {
   "cell_type": "code",
   "execution_count": 9,
   "metadata": {},
   "outputs": [],
   "source": [
    "all_rn= get_all_rn(np.arange(T), 0.06, 0, 0.005)\n",
    "\n",
    "#q3\n",
    "exercise_dates= np.array([4,5,6])\n",
    "def backward_bermudan_swaption(exercise_dates, K=0.062, F=1000):\n",
    "    swap_prices= backward_swap(K)\n",
    "    terminal_val= swap_prices[exercise_dates[-1]]\n",
    "    terminal_val[terminal_val<0]=0\n",
    "    prices={exercise_dates[-1]:terminal_val}\n",
    "    remain_time= np.arange(exercise_dates[-1]-1, -1, -1)\n",
    "    for t in remain_time:\n",
    "        tprices= np.empty(t+1)\n",
    "        num_heads= np.arange(t+1)\n",
    "        if t in exercise_dates:\n",
    "            curr_val= swap_prices[t]\n",
    "            curr_val[curr_val<0]=0\n",
    "            for k in num_heads:\n",
    "                wait= 1/(1+all_rn[t][k])*(.5*(prices[t+1][k+1] + prices[t+1][k]))\n",
    "                tprices[k]= max(curr_val[k], wait)\n",
    "        else:\n",
    "            for k in num_heads:\n",
    "                tprices[k]= 1/(1+all_rn[t][k])*(.5*(prices[t+1][k+1] + prices[t+1][k]))\n",
    "        prices[t]= tprices\n",
    "    return prices"
   ]
  },
  {
   "cell_type": "code",
   "execution_count": 10,
   "metadata": {},
   "outputs": [
    {
     "name": "stdout",
     "output_type": "stream",
     "text": [
      "{   0: array([23.2960203]),\n",
      "    1: array([37.49541904, 11.89214399]),\n",
      "    2: array([57.9465345 , 21.16879967,  4.16146703]),\n",
      "    3: array([84.9885512 , 36.69917125,  8.17868405,  0.72685539]),\n",
      "    4: array([116.04867859,  61.57739341,  15.85785793,   1.56273909,\n",
      "         0.        ]),\n",
      "    5: array([122.34312246,  75.03812901,  30.27439715,   3.34426166,\n",
      "         0.        ,   0.        ]),\n",
      "    6: array([119.17627452,  80.07398898,  42.75570065,   7.12327734,\n",
      "         0.        ,   0.        ,   0.        ])}\n"
     ]
    }
   ],
   "source": [
    "pp.pprint(backward_bermudan_swaption(exercise_dates))"
   ]
  },
  {
   "cell_type": "code",
   "execution_count": 13,
   "metadata": {},
   "outputs": [],
   "source": [
    "#q4\n",
    "def backward_payer_swaption(K, exercise_date=5, F=1000):\n",
    "    swap_prices= backward_swap(K)\n",
    "    terminal_val= swap_prices[exercise_date]*-1\n",
    "    terminal_val[terminal_val<0]=0\n",
    "    prices={exercise_date:terminal_val}\n",
    "    remain_time= np.arange(exercise_date-1, -1, -1)\n",
    "    for t in remain_time:\n",
    "        tprices= np.empty(t+1)\n",
    "        num_heads= np.arange(t+1)\n",
    "        for k in num_heads:\n",
    "            tprices[k]= 1/(1+all_rn[t][k])*(.5*(prices[t+1][k+1] + prices[t+1][k]))\n",
    "        prices[t]= tprices\n",
    "    return prices[0]\n",
    "\n",
    "def backward_putable_swap(K):\n",
    "    swap_prices=backward_swap(K)\n",
    "    payer_swaption_prices= backward_payer_swaption(K)\n",
    "    return swap_prices[0] + payer_swaption_prices[0]"
   ]
  },
  {
   "cell_type": "code",
   "execution_count": 14,
   "metadata": {},
   "outputs": [
    {
     "name": "stdout",
     "output_type": "stream",
     "text": [
      "array([27.94391666])\n"
     ]
    }
   ],
   "source": [
    "pp.pprint(backward_putable_swap(.062))"
   ]
  },
  {
   "cell_type": "code",
   "execution_count": 15,
   "metadata": {},
   "outputs": [],
   "source": [
    "def putable_swap_t0(K):\n",
    "    swap_prices=backward_swap(K)\n",
    "    payer_swaption_prices=backward_payer_swaption(K)\n",
    "    return (swap_prices[0]+ payer_swaption_prices[0])**2\n",
    "\n",
    "def find_putableK():\n",
    "    res= minimize(putable_swap_t0, x0=0.06)\n",
    "    return res.x"
   ]
  },
  {
   "cell_type": "code",
   "execution_count": 16,
   "metadata": {},
   "outputs": [
    {
     "name": "stdout",
     "output_type": "stream",
     "text": [
      "array([0.0572298])\n"
     ]
    }
   ],
   "source": [
    "pp.pprint(find_putableK())"
   ]
  },
  {
   "cell_type": "code",
   "execution_count": 19,
   "metadata": {},
   "outputs": [],
   "source": [
    "import itertools\n",
    "def count_duplicates(time):\n",
    "    res= {}\n",
    "    bin_seq= [\"\".join(seq) for seq in itertools.product(\"01\", repeat=time)]\n",
    "    for seq in bin_seq:\n",
    "        num_heads= seq.count(\"1\")\n",
    "        res[num_heads]= res.get(num_heads, 0) + 1\n",
    "    return res\n",
    "\n",
    "all_rn= get_all_rn(np.arange(T), 0.03, 0, 0.0025)"
   ]
  },
  {
   "cell_type": "code",
   "execution_count": 28,
   "metadata": {},
   "outputs": [],
   "source": [
    "#q5\n",
    "def backward_bond(all_rn, terminal_val=106, q=0.06, F=100, T=T):\n",
    "    #backward induction for vanilla bond \n",
    "    prices= {T:[F]*10, T-1:terminal_val/(1+all_rn[T-1])}\n",
    "    remain_time= np.arange(T-2, -1, -1)\n",
    "    for t in remain_time:\n",
    "        #tprices= number of uniq prices at time t\n",
    "        tprices= np.empty(t+1)\n",
    "        #num_heads= 0 to t heads at time t\n",
    "        num_heads= np.arange(t+1)\n",
    "        for k in num_heads:\n",
    "            #multiple payments: add fixed coupon \n",
    "            tprices[k]= 1/(1+all_rn[t][k])*(.5*(prices[t+1][k+1] + prices[t+1][k])+F*q)\n",
    "        prices[t]= tprices\n",
    "    return prices\n",
    "\n",
    "def backward_futures(all_rn, terminal_val, q, F, curr_t=5):\n",
    "    #backward induction for futures\n",
    "    prices= backward_bond(all_rn, terminal_val, q, F)\n",
    "    dup= count_duplicates(curr_t)\n",
    "    dup_val= np.array(list(dup.values()))\n",
    "    total= sum(dup_val)\n",
    "    return np.sum(prices[curr_t]*dup_val)/total\n",
    "\n",
    "def compute_futures_dv01(all_rn, delta, terminal_val=106000, q=0.06, F=100000):\n",
    "    futures_price= backward_futures(all_rn, terminal_val, q, F)\n",
    "    all_rn2= get_all_rn(np.arange(T), 0.03+delta, 0, 0.0025)\n",
    "    new_price= backward_futures(all_rn2, terminal_val, q, F)\n",
    "    return -1*(new_price- futures_price)/(10000*delta)"
   ]
  },
  {
   "cell_type": "code",
   "execution_count": 29,
   "metadata": {},
   "outputs": [
    {
     "name": "stdout",
     "output_type": "stream",
     "text": [
      "49.617228732755756\n",
      "49.74265290585754\n"
     ]
    }
   ],
   "source": [
    "pp.pprint(compute_futures_dv01(all_rn, .001))\n",
    "pp.pprint(compute_futures_dv01(all_rn, .0001))"
   ]
  },
  {
   "cell_type": "code",
   "execution_count": 30,
   "metadata": {},
   "outputs": [],
   "source": [
    "def compute_bond_dv01(all_rn, delta):\n",
    "    bond_price= backward_bond(all_rn, terminal_val=106000, F=100000, T=5)\n",
    "    all_rn2= get_all_rn(np.arange(T), 0.03+delta, 0, 0.0025)\n",
    "    new_price= backward_bond(all_rn2, terminal_val=106000, F=100000, T=5)\n",
    "    return -1*(new_price[0]- bond_price[0])/(10000*delta)"
   ]
  },
  {
   "cell_type": "code",
   "execution_count": 31,
   "metadata": {},
   "outputs": [
    {
     "name": "stdout",
     "output_type": "stream",
     "text": [
      "array([49.58823259])\n",
      "array([49.71355648])\n"
     ]
    }
   ],
   "source": [
    "pp.pprint(compute_bond_dv01(all_rn, .001))\n",
    "pp.pprint(compute_bond_dv01(all_rn, .0001))"
   ]
  },
  {
   "cell_type": "code",
   "execution_count": 34,
   "metadata": {},
   "outputs": [],
   "source": [
    "#q6 \n",
    "all_rn= get_all_rn(np.arange(T), 0.06, 0, 0.005)\n",
    "def g(x):\n",
    "    #risk neutral measure for recombining vasicek \n",
    "    compare_term= 1 + .1*(0.06-x)/0.005\n",
    "    if compare_term < 0:\n",
    "        return 0\n",
    "    elif 0 <= compare_term <=2:\n",
    "        return 1/2 + .1*(0.06-x)/(2*0.005)\n",
    "    elif compare_term > 2:\n",
    "        return 1\n",
    "\n",
    "def recomb_vasicek_bond(all_rn, terminal_val=106, q=0.06, F=100, T=10):\n",
    "    prices= {T-1:terminal_val/(1+all_rn[T-1])}\n",
    "    remain_time= np.arange(T-2, -1, -1)\n",
    "    for t in remain_time:\n",
    "        #tprices= number of uniq prices at time t\n",
    "        tprices= np.empty(t+1)\n",
    "        #num_heads= 0 to t heads at time t\n",
    "        num_heads= np.arange(t+1)\n",
    "        for k in num_heads:\n",
    "            #multiple payments: add fixed coupon\n",
    "            curr_interest= all_rn[t][k]\n",
    "            p_tilda= g(curr_interest)\n",
    "            q_tilda= 1- p_tilda \n",
    "            tprices[k]= 1/(1+curr_interest)*(p_tilda*(prices[t+1][k+1]) + q_tilda*(prices[t+1][k]) + F*q)\n",
    "        prices[t]= tprices\n",
    "    return prices"
   ]
  },
  {
   "cell_type": "code",
   "execution_count": 35,
   "metadata": {},
   "outputs": [
    {
     "name": "stdout",
     "output_type": "stream",
     "text": [
      "{   0: array([100.14086385]),\n",
      "    1: array([102.56205552,  97.73657584]),\n",
      "    2: array([104.78711631, 100.08866588,  95.6459712 ]),\n",
      "    3: array([106.72524035, 102.22729331,  97.96067835,  93.91195543]),\n",
      "    4: array([108.26440223, 104.05436213, 100.04605725,  96.22842434,\n",
      "        92.59107506]),\n",
      "    5: array([109.2692366 , 105.44886763, 101.79588864,  98.30175272,\n",
      "        94.95840602,  91.75825617]),\n",
      "    6: array([109.58007261, 106.26485563, 103.07902647, 100.01654655,\n",
      "        97.07170233,  94.23908559,  91.51357502]),\n",
      "    7: array([109.0140011 , 106.33084321, 103.73742414, 101.23001356,\n",
      "        98.80506513,  96.45920605,  94.18922732,  91.99207454]),\n",
      "    8: array([107.36913773, 105.45174173, 103.58598305, 101.77002178,\n",
      "       100.00209909,  98.28053301,  96.60371442,  94.97010332,\n",
      "        93.37822532]),\n",
      "    9: array([104.43349754, 103.41463415, 102.41545894, 101.4354067 ,\n",
      "       100.47393365,  99.53051643,  98.60465116,  97.69585253,\n",
      "        96.80365297,  95.92760181])}\n"
     ]
    }
   ],
   "source": [
    "pp.pprint(recomb_vasicek_bond(all_rn))"
   ]
  },
  {
   "cell_type": "code",
   "execution_count": 36,
   "metadata": {},
   "outputs": [],
   "source": [
    "def recomb_vasicek_callable(call_dates, F= 1000, q=0.06, call_price= 1000):\n",
    "    prices= {T: [1000]*(T+1)}\n",
    "    remain_time= np.arange(T-1, -1, -1)\n",
    "    for t in remain_time:\n",
    "        tprices= np.empty(t+1)\n",
    "        num_heads= np.arange(t+1)\n",
    "        if t in call_dates:\n",
    "            for k in num_heads:\n",
    "                curr_interest= all_rn[t][k]\n",
    "                p_tilda= g(curr_interest)\n",
    "                q_tilda= 1- p_tilda \n",
    "                wait= 1/(1+all_rn[t][k])*(p_tilda*(prices[t+1][k+1]) + q_tilda*(prices[t+1][k])+F*q)\n",
    "                tprices[k]= min(call_price, wait)\n",
    "        else:\n",
    "            for k in num_heads:\n",
    "                curr_interest= all_rn[t][k]\n",
    "                p_tilda= g(curr_interest)\n",
    "                q_tilda= 1- p_tilda \n",
    "                tprices[k]= 1/(1+all_rn[t][k])*(p_tilda*(prices[t+1][k+1]) + q_tilda*(prices[t+1][k])+F*q)\n",
    "        prices[t]= tprices\n",
    "    return prices"
   ]
  },
  {
   "cell_type": "code",
   "execution_count": 37,
   "metadata": {},
   "outputs": [
    {
     "name": "stdout",
     "output_type": "stream",
     "text": [
      "{   0: array([984.35517679]),\n",
      "    1: array([998.13758833, 968.69538647]),\n",
      "    2: array([1000.        ,  987.33664671,  952.50095756]),\n",
      "    3: array([1000.        ,  999.68994876,  973.46374226,  937.74444809]),\n",
      "    4: array([1000.        , 1000.        ,  990.31435625,  960.14664349,\n",
      "        925.65703836]),\n",
      "    5: array([1000.        , 1000.        , 1000.        ,  979.46643525,\n",
      "        949.19261846,  917.58256169]),\n",
      "    6: array([1000.        , 1000.        , 1000.        ,  993.81893823,\n",
      "        970.06963891,  942.39085587,  915.13575016]),\n",
      "    7: array([1000.        , 1000.        , 1000.        , 1000.        ,\n",
      "        986.89614905,  964.59206052,  941.89227324,  919.92074541]),\n",
      "    8: array([1000.        , 1000.        , 1000.        , 1000.        ,\n",
      "        997.78545487,  982.80533013,  966.03714421,  949.70103322,\n",
      "        933.7822532 ]),\n",
      "    9: array([1000.        , 1000.        , 1000.        , 1000.        ,\n",
      "       1000.        ,  995.30516432,  986.04651163,  976.95852535,\n",
      "        968.03652968,  959.2760181 ]),\n",
      "    10: [1000, 1000, 1000, 1000, 1000, 1000, 1000, 1000, 1000, 1000, 1000]}\n"
     ]
    }
   ],
   "source": [
    "pp.pprint(recomb_vasicek_callable(np.arange(1, 10)))"
   ]
  },
  {
   "cell_type": "code",
   "execution_count": null,
   "metadata": {},
   "outputs": [],
   "source": []
  }
 ],
 "metadata": {
  "kernelspec": {
   "display_name": "Python 3",
   "language": "python",
   "name": "python3"
  },
  "language_info": {
   "codemirror_mode": {
    "name": "ipython",
    "version": 3
   },
   "file_extension": ".py",
   "mimetype": "text/x-python",
   "name": "python",
   "nbconvert_exporter": "python",
   "pygments_lexer": "ipython3",
   "version": "3.7.3"
  }
 },
 "nbformat": 4,
 "nbformat_minor": 4
}
