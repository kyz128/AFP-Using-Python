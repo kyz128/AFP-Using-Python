{
 "cells": [
  {
   "cell_type": "code",
   "execution_count": 1,
   "metadata": {},
   "outputs": [],
   "source": [
    "import numpy as np\n",
    "import itertools\n",
    "import pprint \n",
    "pp= pprint.PrettyPrinter(indent=4)"
   ]
  },
  {
   "cell_type": "code",
   "execution_count": 2,
   "metadata": {},
   "outputs": [],
   "source": [
    "T=10\n",
    "times= np.arange(T)\n",
    "def ho_lee_rn(n, heads, r0, lam, sigma):\n",
    "    #definition of Ho-Lee model\n",
    "    sig_coeff= (heads-(n-heads))\n",
    "    return r0 + lam*n + sig_coeff*sigma\n",
    "\n",
    "def get_all_rn(times, r0, lam, sigma):\n",
    "    #compute interest rate tree here\n",
    "    res= {}\n",
    "    for i in times:\n",
    "        res[i]= ho_lee_rn(i, np.arange(i+1), r0, lam, sigma)\n",
    "    return res\n",
    "\n",
    "all_rn= get_all_rn(np.arange(T), 0.06, 0, 0.004)"
   ]
  },
  {
   "cell_type": "code",
   "execution_count": 3,
   "metadata": {},
   "outputs": [],
   "source": [
    "def payment(all_rn, curr_t, k, K=.062, F=1000):\n",
    "    #definition of the payment function\n",
    "    prev_r= all_rn[curr_t-1][k]\n",
    "    return F*(K-prev_r)\n",
    "\n",
    "def all_pay(all_rn, times):\n",
    "    res= {}\n",
    "    for t in times:\n",
    "        q_t= np.empty(t)\n",
    "        num_heads= np.arange(t)\n",
    "        for k in num_heads:\n",
    "            q_t[k]= payment(all_rn, t, k)\n",
    "        res[t]= q_t\n",
    "    return res\n",
    "\n",
    "#payments at time 1 to 10\n",
    "all_payments= all_pay(all_rn, np.arange(1, 11))\n",
    "\n",
    "#q4: Receiver swap and swaption\n",
    "def backward_swap(K=0.062, F=1000):\n",
    "    terminal_val= all_payments[T]\n",
    "    prices= {T-1: terminal_val/(1+all_rn[T-1])}\n",
    "    remain_time= np.arange(T-2, -1, -1)\n",
    "    for t in remain_time:\n",
    "        tprices= np.empty(t+1)\n",
    "        num_heads= np.arange(t+1)\n",
    "        for k in num_heads:\n",
    "            tprices[k]= 1/(1+all_rn[t][k])*(.5*(prices[t+1][k+1] + prices[t+1][k])+all_payments[t+1][k])\n",
    "        prices[t]= tprices\n",
    "    return prices\n",
    "\n",
    "\n",
    "def backward_swaption(exercise_date=5, K=0.062, F=1000):\n",
    "    swap_prices= backward_swap()\n",
    "    terminal_val= swap_prices[exercise_date]\n",
    "    #don't exercise if neg\n",
    "    terminal_val[terminal_val<0]=0\n",
    "    prices={exercise_date:terminal_val}\n",
    "    remain_time= np.arange(exercise_date-1, -1, -1)\n",
    "    for t in remain_time:\n",
    "        tprices= np.empty(t+1)\n",
    "        num_heads= np.arange(t+1)\n",
    "        for k in num_heads:\n",
    "            tprices[k]= 1/(1+all_rn[t][k])*(.5*(prices[t+1][k+1] + prices[t+1][k]))\n",
    "        prices[t]= tprices\n",
    "    return prices"
   ]
  },
  {
   "cell_type": "code",
   "execution_count": 4,
   "metadata": {},
   "outputs": [
    {
     "name": "stdout",
     "output_type": "stream",
     "text": [
      "{   0: array([16.3037282]),\n",
      "    1: array([ 42.78064033, -12.21673656]),\n",
      "    2: array([ 65.05678889,  13.29592349, -35.29313889]),\n",
      "    3: array([ 82.2736635 ,  34.60582033, -10.41846252, -52.96768215]),\n",
      "    4: array([ 93.58997928,  50.85561942,  10.2318731 , -28.40236134,\n",
      "       -65.16034918]),\n",
      "    5: array([ 98.2103565 ,  61.20552023,  25.79470303,  -8.10313205,\n",
      "       -40.56431178, -71.66075966]),\n",
      "    6: array([ 95.41541922,  64.8621223 ,  35.4246481 ,   7.0537647 ,\n",
      "       -20.29722971, -46.67265475, -72.11458612]),\n",
      "    7: array([ 84.59202987,  61.10871876,  38.32339261,  16.210067  ,\n",
      "        -5.25608584, -26.09879682, -46.34075619, -66.00366651]),\n",
      "    8: array([ 65.26222881,  49.33572085,  33.77041417,  18.55541673,\n",
      "         3.68024478, -10.86519544, -25.09062494, -39.00540844,\n",
      "       -52.61856989]),\n",
      "    9: array([ 37.109375  ,  29.06976744,  21.15384615,  13.35877863,\n",
      "         5.68181818,  -1.87969925,  -9.32835821, -16.66666667,\n",
      "       -23.89705882, -31.02189781])}\n"
     ]
    }
   ],
   "source": [
    "pp.pprint(backward_swap())"
   ]
  },
  {
   "cell_type": "code",
   "execution_count": 5,
   "metadata": {},
   "outputs": [
    {
     "name": "stdout",
     "output_type": "stream",
     "text": [
      "{   0: array([15.76314964]),\n",
      "    1: array([25.2757179 ,  8.14215932]),\n",
      "    2: array([38.73263739, 14.64967882,  2.67683622]),\n",
      "    3: array([56.15387212, 25.33959695,  5.71772216,  0.        ]),\n",
      "    4: array([76.34859997, 41.349916  , 12.16731275,  0.        ,  0.        ]),\n",
      "    5: array([98.2103565 , 61.20552023, 25.79470303,  0.        ,  0.        ,\n",
      "        0.        ])}\n"
     ]
    }
   ],
   "source": [
    "pp.pprint(backward_swaption())"
   ]
  },
  {
   "cell_type": "code",
   "execution_count": 9,
   "metadata": {},
   "outputs": [],
   "source": [
    "#q5  \n",
    "all_rn= get_all_rn(np.arange(T), 0.03, 0, 0.0025)\n",
    "def count_duplicates(time):\n",
    "    #count duplicate occurrences in tree recombination\n",
    "    res= {}\n",
    "    #generate binary seq\n",
    "    bin_seq= [\"\".join(seq) for seq in itertools.product(\"01\", repeat=time)]\n",
    "    for seq in bin_seq:\n",
    "        num_heads= seq.count(\"1\")\n",
    "        res[num_heads]= res.get(num_heads, 0) + 1\n",
    "    return res\n",
    "\n",
    "def backward_bond(terminal_val=106, q=0.06, F=100):\n",
    "    #backward induction for vanilla bond \n",
    "    prices= {T:[F]*10, T-1:terminal_val/(1+all_rn[T-1])}\n",
    "    remain_time= np.arange(T-2, -1, -1)\n",
    "    for t in remain_time:\n",
    "        #tprices= number of uniq prices at time t\n",
    "        tprices= np.empty(t+1)\n",
    "        #num_heads= 0 to t heads at time t\n",
    "        num_heads= np.arange(t+1)\n",
    "        for k in num_heads:\n",
    "            #multiple payments: add fixed coupon \n",
    "            tprices[k]= 1/(1+all_rn[t][k])*(.5*(prices[t+1][k+1] + prices[t+1][k])+F*q)\n",
    "        prices[t]= tprices\n",
    "    return prices\n",
    "\n",
    "def discounts(all_rn, n):\n",
    "    #compute discounts  \n",
    "    bin_seq= [\"\".join(seq) for seq in itertools.product(\"01\", repeat=n)]\n",
    "    dn= {}\n",
    "    for idx in range(len(bin_seq)):\n",
    "        seq= bin_seq[idx]\n",
    "        res= 1+all_rn[0]\n",
    "        for t in range(1, n):\n",
    "            tmp= seq[0:t]\n",
    "            num_heads= tmp.count(\"1\")\n",
    "            res= res*(1+all_rn[t][num_heads])\n",
    "        #track num of heads associated with bin seq\n",
    "        dn[seq]= (1/res, seq.count(\"1\"))\n",
    "    return dn\n",
    "\n",
    "def backward_futures(curr_t=5):\n",
    "    #backward induction for futures \n",
    "    prices= backward_bond()\n",
    "    dup= count_duplicates(curr_t)\n",
    "    dup_val= np.array(list(dup.values()))\n",
    "    total= sum(dup_val)\n",
    "    #E[P5]\n",
    "    return np.sum(prices[curr_t]*dup_val)/total\n",
    "\n",
    "def compute_b0T(all_rn, T):\n",
    "    #compute time 0 price of ZCB maturing at T\n",
    "    prices= {T:[1], T-1: 1/(1+all_rn[T-1])}\n",
    "    remain_time= np.arange(T-2, -1, -1)\n",
    "    for t in remain_time:\n",
    "        tprices= np.empty(t+1)\n",
    "        num_heads= np.arange(t+1)\n",
    "        for k in num_heads:\n",
    "            tprices[k]= 1/(1+all_rn[t][k])*(.5*(prices[t+1][k+1] + prices[t+1][k]))\n",
    "        prices[t]= tprices\n",
    "    return prices\n",
    "\n",
    "#3 ways of computing forward price For0,5\n",
    "def backward_forwards1(curr_t=5):\n",
    "    #use formula: E(D5P5)/E(D5)\n",
    "    prices= backward_bond()\n",
    "    pm= prices[curr_t]\n",
    "    dm_dict= discounts(all_rn, curr_t)\n",
    "    total= 0\n",
    "    bot= 0\n",
    "    len_dict= len(dm_dict.values())\n",
    "    for k in dm_dict:\n",
    "        val, num= dm_dict[k]\n",
    "        total+= val*pm[num]\n",
    "        bot+= val\n",
    "    top = total/len_dict\n",
    "    bot= bot/len_dict\n",
    "    return top/bot\n",
    "\n",
    "def backward_forwards2(curr_t=5):\n",
    "    #by replication: time 0 of p5 payment/B0,5\n",
    "    vanilla= backward_bond()\n",
    "    p5= vanilla[curr_t]\n",
    "    prices= {curr_t: p5}\n",
    "    remain_time= np.arange(curr_t-1, -1, -1)\n",
    "    for t in remain_time:\n",
    "        tprices= np.empty(t+1)\n",
    "        num_heads= np.arange(t+1)\n",
    "        for k in num_heads:\n",
    "            tprices[k]= 1/(1+all_rn[t][k])*(.5*(prices[t+1][k+1] + prices[t+1][k]))\n",
    "        prices[t]= tprices\n",
    "    p0= prices[0]\n",
    "    return p0/compute_b0T(all_rn, curr_t)[0]\n",
    "\n",
    "def backward_forwards3(curr_t=5, coupon=6):\n",
    "    #by replication: V0-For0,5*B0,5-6(B0,1+B0,2+B0,3+B0,4+B0,5)=0\n",
    "    vanilla= backward_bond()\n",
    "    p0= vanilla[0]\n",
    "    for i in range(1,curr_t+1):\n",
    "        b0= compute_b0T(all_rn, i)[0]\n",
    "        p0-= b0*coupon\n",
    "    return p0/compute_b0T(all_rn, curr_t)[0]"
   ]
  },
  {
   "cell_type": "code",
   "execution_count": 7,
   "metadata": {},
   "outputs": [
    {
     "name": "stdout",
     "output_type": "stream",
     "text": [
      "113.79400972337652\n"
     ]
    }
   ],
   "source": [
    "pp.pprint(backward_futures())"
   ]
  },
  {
   "cell_type": "code",
   "execution_count": 11,
   "metadata": {},
   "outputs": [
    {
     "name": "stdout",
     "output_type": "stream",
     "text": [
      "array([113.82420492])\n",
      "array([113.82420492])\n",
      "array([113.82420492])\n"
     ]
    }
   ],
   "source": [
    "pp.pprint(backward_forwards1())\n",
    "pp.pprint(backward_forwards2())\n",
    "pp.pprint(backward_forwards3())"
   ]
  },
  {
   "cell_type": "code",
   "execution_count": 12,
   "metadata": {},
   "outputs": [],
   "source": [
    "T=11\n",
    "times= np.arange(T)\n",
    "all_rn= get_all_rn(np.arange(T), 0.0025, 0.00025, 0.0003)\n",
    "#q6\n",
    "def QP():\n",
    "    prices= {T-1: 100*(1-4*all_rn[T-1])}\n",
    "    remain_time= np.arange(T-2, -1, -1)\n",
    "    for t in remain_time:\n",
    "        tprices= np.empty(t+1)\n",
    "        num_heads= np.arange(t+1)\n",
    "        for k in num_heads:\n",
    "            tprices[k]= (.5*(prices[t+1][k+1] + prices[t+1][k]))\n",
    "        prices[t]= tprices\n",
    "    return prices\n",
    "\n",
    "def backward_eurofutures(K, terminal_time=5):\n",
    "    QP_res= QP()\n",
    "    QP510= QP_res[terminal_time]\n",
    "    call_val= QP510-K\n",
    "    #take positive part\n",
    "    call_val[call_val<0]=0\n",
    "    terminal_val= 2500*call_val\n",
    "    prices= {terminal_time: terminal_val}\n",
    "    remain_time= np.arange(terminal_time-1, -1, -1)\n",
    "    for t in remain_time:\n",
    "        tprices= np.empty(t+1)\n",
    "        num_heads= np.arange(t+1)\n",
    "        for k in num_heads:\n",
    "            tprices[k]= 1/(1+all_rn[t][k])*(.5*(prices[t+1][k+1] + prices[t+1][k]))\n",
    "        prices[t]= tprices\n",
    "    return prices\n",
    "\n",
    "def all_eurofutures(K=[97.75, 98, 98.25]):\n",
    "    res= []\n",
    "    for k in K: \n",
    "        prices= backward_eurofutures(k)\n",
    "        res.append(prices[0])\n",
    "    return res"
   ]
  },
  {
   "cell_type": "code",
   "execution_count": 14,
   "metadata": {},
   "outputs": [
    {
     "name": "stdout",
     "output_type": "stream",
     "text": [
      "{   0: array([685.70485998]),\n",
      "    1: array([932.11838086, 442.7198634 ]),\n",
      "    2: array([1215.58026153,  653.22388025,  234.91643772]),\n",
      "    3: array([1517.56866591,  919.42664241,  390.94046137,   80.58381241]),\n",
      "    4: array([1820.8121321 , 1221.45777246,  622.82012955,  161.83647047,\n",
      "          0.        ]),\n",
      "    5: array([2125., 1525.,  925.,  325.,    0.,    0.])}\n"
     ]
    }
   ],
   "source": [
    "pp.pprint(backward_eurofutures(97.75))"
   ]
  }
 ],
 "metadata": {
  "kernelspec": {
   "display_name": "Python 3",
   "language": "python",
   "name": "python3"
  },
  "language_info": {
   "codemirror_mode": {
    "name": "ipython",
    "version": 3
   },
   "file_extension": ".py",
   "mimetype": "text/x-python",
   "name": "python",
   "nbconvert_exporter": "python",
   "pygments_lexer": "ipython3",
   "version": "3.7.3"
  }
 },
 "nbformat": 4,
 "nbformat_minor": 4
}
